{
 "cells": [
  {
   "cell_type": "code",
   "execution_count": 1,
   "id": "9e91ba4b",
   "metadata": {},
   "outputs": [],
   "source": [
    "import tensorflow as tf\n",
    "from tensorflow import keras\n",
    "import pandas as pd\n",
    "import matplotlib.pyplot as plt\n",
    "import numpy as np\n",
    "%matplotlib inline"
   ]
  },
  {
   "cell_type": "code",
   "execution_count": 2,
   "id": "89db8b70",
   "metadata": {},
   "outputs": [],
   "source": [
    "# Loading the mnist data set\n",
    "(X_train, y_train), (X_test, y_test) = keras.datasets.mnist.load_data()"
   ]
  },
  {
   "cell_type": "code",
   "execution_count": 3,
   "id": "6504007e",
   "metadata": {},
   "outputs": [
    {
     "data": {
      "text/plain": [
       "60000"
      ]
     },
     "execution_count": 3,
     "metadata": {},
     "output_type": "execute_result"
    }
   ],
   "source": [
    "# Lets have a look at the data points in X_train and X_test\n",
    "len(X_train)"
   ]
  },
  {
   "cell_type": "code",
   "execution_count": 4,
   "id": "bd8fc096",
   "metadata": {},
   "outputs": [
    {
     "data": {
      "text/plain": [
       "10000"
      ]
     },
     "execution_count": 4,
     "metadata": {},
     "output_type": "execute_result"
    }
   ],
   "source": [
    "len(X_test)"
   ]
  },
  {
   "cell_type": "code",
   "execution_count": 5,
   "id": "cc95e20f",
   "metadata": {},
   "outputs": [],
   "source": [
    "X_train = X_train/255 # Normalizing\n",
    "X_test = X_test/255"
   ]
  },
  {
   "cell_type": "code",
   "execution_count": 6,
   "id": "590438fb",
   "metadata": {},
   "outputs": [],
   "source": [
    "model = tf.keras.Sequential() # Creating a Sequential Model"
   ]
  },
  {
   "cell_type": "code",
   "execution_count": 7,
   "id": "ebc399bf",
   "metadata": {},
   "outputs": [],
   "source": [
    "model.add(keras.layers.Flatten(input_shape = [28, 28])) # adding the first flatten layer of neurons for the input of data\n",
    "model.add(keras.layers.Dense(300, activation = \"relu\")) # adding the dense layers with diff activation functions\n",
    "model.add(keras.layers.Dense(100, activation = 'tanh'))\n",
    "model.add(keras.layers.Dense(10, activation = 'softmax'))\n",
    "# this is the output layer with 10 neurons for eact class with softmax activation function"
   ]
  },
  {
   "cell_type": "code",
   "execution_count": 8,
   "id": "1ce882f4",
   "metadata": {},
   "outputs": [
    {
     "name": "stdout",
     "output_type": "stream",
     "text": [
      "Model: \"sequential\"\n",
      "_________________________________________________________________\n",
      "Layer (type)                 Output Shape              Param #   \n",
      "=================================================================\n",
      "flatten (Flatten)            (None, 784)               0         \n",
      "_________________________________________________________________\n",
      "dense (Dense)                (None, 300)               235500    \n",
      "_________________________________________________________________\n",
      "dense_1 (Dense)              (None, 100)               30100     \n",
      "_________________________________________________________________\n",
      "dense_2 (Dense)              (None, 10)                1010      \n",
      "=================================================================\n",
      "Total params: 266,610\n",
      "Trainable params: 266,610\n",
      "Non-trainable params: 0\n",
      "_________________________________________________________________\n"
     ]
    }
   ],
   "source": [
    "model.summary()"
   ]
  },
  {
   "cell_type": "code",
   "execution_count": 9,
   "id": "14b230bf",
   "metadata": {},
   "outputs": [],
   "source": [
    "model.compile(\n",
    "    optimizer = 'adam',\n",
    "    loss = 'sparse_categorical_crossentropy',\n",
    "    metrics = ['accuracy']\n",
    ")"
   ]
  },
  {
   "cell_type": "code",
   "execution_count": 10,
   "id": "4727c60b",
   "metadata": {},
   "outputs": [
    {
     "name": "stdout",
     "output_type": "stream",
     "text": [
      "Epoch 1/10\n",
      "1875/1875 [==============================] - 10s 5ms/step - loss: 0.1934 - accuracy: 0.9429 - val_loss: 0.0981 - val_accuracy: 0.9680\n",
      "Epoch 2/10\n",
      "1875/1875 [==============================] - 8s 4ms/step - loss: 0.0803 - accuracy: 0.9754 - val_loss: 0.0753 - val_accuracy: 0.9754\n",
      "Epoch 3/10\n",
      "1875/1875 [==============================] - 8s 4ms/step - loss: 0.0529 - accuracy: 0.9832 - val_loss: 0.0700 - val_accuracy: 0.9771\n",
      "Epoch 4/10\n",
      "1875/1875 [==============================] - 8s 4ms/step - loss: 0.0391 - accuracy: 0.9876 - val_loss: 0.0731 - val_accuracy: 0.9786\n",
      "Epoch 5/10\n",
      "1875/1875 [==============================] - 8s 4ms/step - loss: 0.0296 - accuracy: 0.9909 - val_loss: 0.0734 - val_accuracy: 0.9800\n",
      "Epoch 6/10\n",
      "1875/1875 [==============================] - 8s 4ms/step - loss: 0.0235 - accuracy: 0.9924 - val_loss: 0.0804 - val_accuracy: 0.9775\n",
      "Epoch 7/10\n",
      "1875/1875 [==============================] - 8s 4ms/step - loss: 0.0210 - accuracy: 0.9923 - val_loss: 0.0769 - val_accuracy: 0.9802\n",
      "Epoch 8/10\n",
      "1875/1875 [==============================] - 8s 4ms/step - loss: 0.0165 - accuracy: 0.9945 - val_loss: 0.0801 - val_accuracy: 0.9777\n",
      "Epoch 9/10\n",
      "1875/1875 [==============================] - 8s 4ms/step - loss: 0.0149 - accuracy: 0.9953 - val_loss: 0.0776 - val_accuracy: 0.9811\n",
      "Epoch 10/10\n",
      "1875/1875 [==============================] - 8s 4ms/step - loss: 0.0127 - accuracy: 0.9959 - val_loss: 0.0817 - val_accuracy: 0.9805\n"
     ]
    }
   ],
   "source": [
    "history = model.fit(X_train, y_train,  epochs = 10, validation_data = (X_test, y_test))"
   ]
  },
  {
   "cell_type": "code",
   "execution_count": 11,
   "id": "e4620b17",
   "metadata": {
    "scrolled": false
   },
   "outputs": [
    {
     "data": {
      "image/png": "[encoded data removed]",
      "text/plain": [
       "<Figure size 864x360 with 1 Axes>"
      ]
     },
     "metadata": {
      "needs_background": "light"
     },
     "output_type": "display_data"
    }
   ],
   "source": [
    "pd.DataFrame(history.history).plot(figsize=(12, 5))\n",
    "plt.grid(True)\n",
    "plt.gca().set_ylim(0, 1) # set the vertical range to [0-1]\n",
    "plt.show()"
   ]
  },
  {
   "cell_type": "code",
   "execution_count": 12,
   "id": "1eb57065",
   "metadata": {},
   "outputs": [],
   "source": [
    "y_pred = model.predict(X_test)"
   ]
  },
  {
   "cell_type": "code",
   "execution_count": 13,
   "id": "26066aaa",
   "metadata": {},
   "outputs": [
    {
     "data": {
      "text/plain": [
       "array([[6.82363166e-10, 8.14510592e-09, 3.41823387e-08, ...,\n",
       "        9.99998212e-01, 3.19206279e-08, 1.32433365e-06],\n",
       "       [7.80869527e-07, 1.25994779e-06, 9.99995112e-01, ...,\n",
       "        2.71166911e-09, 6.56442808e-07, 3.10221931e-10],\n",
       "       [1.27477051e-09, 9.99997735e-01, 3.53490577e-07, ...,\n",
       "        8.33212880e-07, 4.82004566e-07, 7.73535513e-10],\n",
       "       ...,\n",
       "       [2.60776860e-12, 5.21997876e-08, 8.49377096e-11, ...,\n",
       "        4.21186570e-07, 6.39419717e-09, 2.75354012e-07],\n",
       "       [1.17633220e-07, 1.27380462e-09, 3.02833003e-09, ...,\n",
       "        3.59258845e-10, 5.66973526e-04, 5.37975831e-10],\n",
       "       [4.34427648e-06, 1.01986850e-10, 1.42101886e-08, ...,\n",
       "        1.00421355e-11, 3.72183599e-08, 2.49069854e-09]], dtype=float32)"
      ]
     },
     "execution_count": 13,
     "metadata": {},
     "output_type": "execute_result"
    }
   ],
   "source": [
    "y_pred"
   ]
  },
  {
   "cell_type": "markdown",
   "id": "1de275d0",
   "metadata": {},
   "source": [
    "Model.predict will give us the probability of classes that are present in the data set, Our optimal answer will be the class with highest probability."
   ]
  },
  {
   "cell_type": "code",
   "execution_count": 14,
   "id": "266d08b0",
   "metadata": {},
   "outputs": [],
   "source": [
    "# np.argmax will provode us the highest value.\n",
    "y_pred = [np.argmax(i) for i in y_pred]"
   ]
  },
  {
   "cell_type": "code",
   "execution_count": 15,
   "id": "b34a3c4a",
   "metadata": {},
   "outputs": [
    {
     "data": {
      "text/plain": [
       "<tf.Tensor: shape=(10, 10), dtype=int32, numpy=\n",
       "array([[ 973,    0,    0,    1,    0,    2,    1,    1,    2,    0],\n",
       "       [   5, 1121,    4,    0,    0,    0,    2,    1,    2,    0],\n",
       "       [   4,    0, 1013,    3,    2,    0,    1,    3,    6,    0],\n",
       "       [   2,    0,    6,  989,    0,    2,    0,    4,    2,    5],\n",
       "       [   2,    0,    2,    1,  966,    0,    2,    1,    1,    7],\n",
       "       [   3,    0,    0,    8,    1,  870,    4,    0,    3,    3],\n",
       "       [   3,    2,    0,    1,    5,    5,  938,    0,    4,    0],\n",
       "       [   1,    3,    8,    2,    1,    0,    0, 1003,    6,    4],\n",
       "       [   5,    0,    1,    2,    5,    0,    0,    2,  957,    2],\n",
       "       [   2,    2,    1,    4,    9,    2,    0,    8,    6,  975]])>"
      ]
     },
     "execution_count": 15,
     "metadata": {},
     "output_type": "execute_result"
    }
   ],
   "source": [
    "# Lets hav a look at the confusion matrix.\n",
    "cm = tf.math.confusion_matrix(labels = y_test, predictions= y_pred)\n",
    "cm"
   ]
  },
  {
   "cell_type": "code",
   "execution_count": 16,
   "id": "3dcd5e78",
   "metadata": {},
   "outputs": [
    {
     "data": {
      "text/plain": [
       "Text(69.0, 0.5, 'True Values')"
      ]
     },
     "execution_count": 16,
     "metadata": {},
     "output_type": "execute_result"
    },
    {
     "data": {
      "image/png": "[encoded data removed]",
      "text/plain": [
       "<Figure size 720x504 with 2 Axes>"
      ]
     },
     "metadata": {
      "needs_background": "light"
     },
     "output_type": "display_data"
    }
   ],
   "source": [
    "import seaborn as sns\n",
    "# Heat Map\n",
    "plt.figure(figsize=(10, 7))\n",
    "sns.heatmap(cm, annot =True, fmt = 'd')\n",
    "plt.xlabel(\"Predicted\")\n",
    "plt.ylabel(\"True Values\")"
   ]
  },
  {
   "cell_type": "code",
   "execution_count": 17,
   "id": "3304ced5",
   "metadata": {},
   "outputs": [
    {
     "data": {
      "text/plain": [
       "0.9805"
      ]
     },
     "execution_count": 17,
     "metadata": {},
     "output_type": "execute_result"
    }
   ],
   "source": [
    "# Lets check for accuracy\n",
    "from sklearn.metrics import accuracy_score\n",
    "accuracy_score(y_test, y_pred)"
   ]
  }
 ],
 "metadata": {
  "kernelspec": {
   "display_name": "Python 3",
   "language": "python",
   "name": "python3"
  },
  "language_info": {
   "codemirror_mode": {
    "name": "ipython",
    "version": 3
   },
   "file_extension": ".py",
   "mimetype": "text/x-python",
   "name": "python",
   "nbconvert_exporter": "python",
   "pygments_lexer": "ipython3",
   "version": "3.8.8"
  }
 },
 "nbformat": 4,
 "nbformat_minor": 5
}
